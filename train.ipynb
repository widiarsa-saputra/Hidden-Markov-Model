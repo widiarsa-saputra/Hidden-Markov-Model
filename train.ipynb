{
 "cells": [
  {
   "cell_type": "markdown",
   "metadata": {},
   "source": [
    "HmmTagger is the main class\n",
    " \n",
    "pandas just for reading the dataset"
   ]
  },
  {
   "cell_type": "code",
   "execution_count": 1,
   "metadata": {},
   "outputs": [],
   "source": [
    "from hmmClass import HmmTagger\n",
    "import pandas as pd"
   ]
  },
  {
   "cell_type": "markdown",
   "metadata": {},
   "source": [
    "# Dataset\n",
    "We need the train and test dataset is splitted into 2 parts.\n",
    "\n",
    "One for the observation and one for the target label, each part has 2 dimenssion arrays"
   ]
  },
  {
   "cell_type": "markdown",
   "metadata": {},
   "source": [
    "NER Dataset"
   ]
  },
  {
   "cell_type": "code",
   "execution_count": 2,
   "metadata": {},
   "outputs": [],
   "source": [
    "data = pd.read_pickle('data/train/indonesian_ner_train.pkl')\n",
    "df = pd.DataFrame(data)\n",
    "sequens_observation_ner = df['words']\n",
    "sequens_labels_ner = df['ner']\n",
    "\n",
    "data_test = pd.read_pickle('data/test/indonesian_ner_test.pkl')\n",
    "df_test = pd.DataFrame(data_test)\n",
    "x_ner = df_test['words'] #test observation\n",
    "y_ner = df_test['ner'] #test label"
   ]
  },
  {
   "cell_type": "markdown",
   "metadata": {},
   "source": [
    "POS Dataset\n"
   ]
  },
  {
   "cell_type": "code",
   "execution_count": 4,
   "metadata": {},
   "outputs": [],
   "source": [
    "data = pd.read_pickle('data/train/indonesian_pos_train.pkl')\n",
    "df = pd.DataFrame(data)\n",
    "sequens_observation_pos = df['words']\n",
    "sequens_labels_pos = df['pos']\n",
    "\n",
    "data_test = pd.read_pickle('data/test/indonesian_pos_test.pkl')\n",
    "df_test = pd.DataFrame(data_test)\n",
    "x_pos = df_test['words'] #test observation\n",
    "y_pos = df_test['pos'] #test label"
   ]
  },
  {
   "cell_type": "markdown",
   "metadata": {},
   "source": [
    "# Model"
   ]
  },
  {
   "cell_type": "markdown",
   "metadata": {},
   "source": [
    "NER Model"
   ]
  },
  {
   "cell_type": "code",
   "execution_count": 4,
   "metadata": {},
   "outputs": [
    {
     "name": "stdout",
     "output_type": "stream",
     "text": [
      "Training parameter epoch: 1 with Tolerance: 0.0001 accuracy: 0.8752245013706399\n",
      "Training parameter epoch: 1 with Tolerance: 0.001 accuracy: 0.8752245013706399\n",
      "Training parameter epoch: 5 with Tolerance: 0.0001 accuracy: 0.8752245013706399\n",
      "Training parameter epoch: 5 with Tolerance: 0.001 accuracy: 0.8752245013706399\n",
      "Training parameter epoch: 10 with Tolerance: 0.0001 accuracy: 0.8752245013706399\n",
      "Training parameter epoch: 10 with Tolerance: 0.001 accuracy: 0.8752245013706399\n",
      "\n",
      "\n",
      " tol/epoch     0.0001     0.001\n",
      "\n",
      "         1     0.8752     0.8752 \n",
      "\n",
      "         5     0.8752     0.8752 \n",
      "\n",
      "        10     0.8752     0.8752 \n",
      "\n",
      "Epoch 1, Tolerance 0.0001 gives highest accuracy with 0.8752245013706399\n",
      "Saved model in model/indonesian_best_ner_model.json\n"
     ]
    }
   ],
   "source": [
    "tagger_ner = HmmTagger(sequens_observation_ner, sequens_labels_ner)\n",
    "tagger_ner.grid_search(\n",
    "    epoch=[1, 5, 10], #count iteration for updating the lambdas parameter\n",
    "    tol = [1e-4, 1e-3], #parameter that control the convergence of the loss by the difference in log-likelihood changes\n",
    "    best_param_name=\"indonesian_best_ner_model\",\n",
    "    verbose=False, #printing the log-likelihood, loss, and accuracy for each parameter combination train\n",
    "    x_test=x_ner,\n",
    "    y_test=y_ner,\n",
    "    call_back=95.0 #target accuracy for the train, will stop the grid_search if the condition is fullfiled\n",
    ")"
   ]
  },
  {
   "cell_type": "markdown",
   "metadata": {},
   "source": [
    "POS Model"
   ]
  },
  {
   "cell_type": "code",
   "execution_count": 6,
   "metadata": {},
   "outputs": [
    {
     "name": "stdout",
     "output_type": "stream",
     "text": [
      "Training parameter epoch: 1 with Tolerance: 0.0001 \n",
      "Jml. Data            1463                \n",
      "Avg. Seq             20.7                \n",
      "Jml. State           7                   \n",
      "Estimasi Complexity  1481270.0000000002  \n",
      "\n",
      "epoch                log-likelihood       previous log-ll      loss                 time\n",
      "1                    -209143.6752         0.0000               209143.6752          2.39 detik\n",
      "\n",
      "Training completed in 3.34 second\n",
      "\tlabel      | accuracy\n",
      "\n",
      "\tB-ORG      | 0.85\n",
      "\tB-PER      | 0.49\n",
      "\tB-LOC      | 0.70\n",
      "\tO          | 0.98\n",
      "\tI-PER      | 0.41\n",
      "\tI-LOC      | 0.40\n",
      "\tI-ORG      | 0.65\n",
      "\n",
      "Accuracy total | 0.88\n",
      "accuracy: 0.8752245013706399\n",
      "Training parameter epoch: 1 with Tolerance: 0.001 \n",
      "Jml. Data            1463                \n",
      "Avg. Seq             20.7                \n",
      "Jml. State           7                   \n",
      "Estimasi Complexity  1481270.0000000002  \n",
      "\n",
      "epoch                log-likelihood       previous log-ll      loss                 time\n",
      "1                    -209143.6752         0.0000               209143.6752          2.45 detik\n",
      "\n",
      "Training completed in 3.40 second\n",
      "\tlabel      | accuracy\n",
      "\n",
      "\tB-ORG      | 0.85\n",
      "\tB-PER      | 0.49\n",
      "\tB-LOC      | 0.70\n",
      "\tO          | 0.98\n",
      "\tI-PER      | 0.41\n",
      "\tI-LOC      | 0.40\n",
      "\tI-ORG      | 0.65\n",
      "\n",
      "Accuracy total | 0.88\n",
      "accuracy: 0.8752245013706399\n",
      "Training parameter epoch: 5 with Tolerance: 0.0001 \n",
      "Jml. Data            1463                \n",
      "Avg. Seq             20.7                \n",
      "Jml. State           7                   \n",
      "Estimasi Complexity  1481270.0000000002  \n",
      "\n",
      "epoch                log-likelihood       previous log-ll      loss                 time\n",
      "1                    -209143.6752         0.0000               209143.6752          2.45 detik\n",
      "Converged at epoch 2\n",
      "\n",
      "Training completed in 6.03 second\n",
      "\tlabel      | accuracy\n",
      "\n",
      "\tB-ORG      | 0.85\n",
      "\tB-PER      | 0.49\n",
      "\tB-LOC      | 0.70\n",
      "\tO          | 0.98\n",
      "\tI-PER      | 0.41\n",
      "\tI-LOC      | 0.40\n",
      "\tI-ORG      | 0.65\n",
      "\n",
      "Accuracy total | 0.88\n",
      "accuracy: 0.8752245013706399\n",
      "Training parameter epoch: 5 with Tolerance: 0.001 \n",
      "Jml. Data            1463                \n",
      "Avg. Seq             20.7                \n",
      "Jml. State           7                   \n",
      "Estimasi Complexity  1481270.0000000002  \n",
      "\n",
      "epoch                log-likelihood       previous log-ll      loss                 time\n",
      "1                    -209143.6752         0.0000               209143.6752          2.31 detik\n",
      "Converged at epoch 2\n",
      "\n",
      "Training completed in 5.63 second\n",
      "\tlabel      | accuracy\n",
      "\n",
      "\tB-ORG      | 0.85\n",
      "\tB-PER      | 0.49\n",
      "\tB-LOC      | 0.70\n",
      "\tO          | 0.98\n",
      "\tI-PER      | 0.41\n",
      "\tI-LOC      | 0.40\n",
      "\tI-ORG      | 0.65\n",
      "\n",
      "Accuracy total | 0.88\n",
      "accuracy: 0.8752245013706399\n",
      "Training parameter epoch: 10 with Tolerance: 0.0001 \n",
      "Jml. Data            1463                \n",
      "Avg. Seq             20.7                \n",
      "Jml. State           7                   \n",
      "Estimasi Complexity  1481270.0000000002  \n",
      "\n",
      "epoch                log-likelihood       previous log-ll      loss                 time\n",
      "1                    -209143.6752         0.0000               209143.6752          2.21 detik\n",
      "Converged at epoch 2\n",
      "\n",
      "Training completed in 5.39 second\n",
      "\tlabel      | accuracy\n",
      "\n",
      "\tB-ORG      | 0.85\n",
      "\tB-PER      | 0.49\n",
      "\tB-LOC      | 0.70\n",
      "\tO          | 0.98\n",
      "\tI-PER      | 0.41\n",
      "\tI-LOC      | 0.40\n",
      "\tI-ORG      | 0.65\n",
      "\n",
      "Accuracy total | 0.88\n",
      "accuracy: 0.8752245013706399\n",
      "Training parameter epoch: 10 with Tolerance: 0.001 \n",
      "Jml. Data            1463                \n",
      "Avg. Seq             20.7                \n",
      "Jml. State           7                   \n",
      "Estimasi Complexity  1481270.0000000002  \n",
      "\n",
      "epoch                log-likelihood       previous log-ll      loss                 time\n",
      "1                    -209143.6752         0.0000               209143.6752          2.29 detik\n",
      "Converged at epoch 2\n",
      "\n",
      "Training completed in 5.46 second\n",
      "\tlabel      | accuracy\n",
      "\n",
      "\tB-ORG      | 0.85\n",
      "\tB-PER      | 0.49\n",
      "\tB-LOC      | 0.70\n",
      "\tO          | 0.98\n",
      "\tI-PER      | 0.41\n",
      "\tI-LOC      | 0.40\n",
      "\tI-ORG      | 0.65\n",
      "\n",
      "Accuracy total | 0.88\n",
      "accuracy: 0.8752245013706399\n",
      "\n",
      "\n",
      " tol/epoch     0.0001     0.001\n",
      "\n",
      "         1     0.8752     0.8752 \n",
      "\n",
      "         5     0.8752     0.8752 \n",
      "\n",
      "        10     0.8752     0.8752 \n",
      "\n",
      "Epoch 1, Tolerance 0.0001 gives highest accuracy with 0.8752245013706399\n",
      "Saved model in model/indonesian_best_pos_model.json\n"
     ]
    }
   ],
   "source": [
    "tagger_pos = HmmTagger(sequens_observation_ner, sequens_labels_ner)\n",
    "tagger_pos.grid_search(\n",
    "    epoch=[1, 5, 10],\n",
    "    tol = [1e-4, 1e-3],\n",
    "    best_param_name=\"indonesian_best_pos_model\",\n",
    "    verbose=True,\n",
    "    x_test=x_ner,\n",
    "    y_test=y_ner,\n",
    "    call_back=95.0\n",
    ")"
   ]
  }
 ],
 "metadata": {
  "kernelspec": {
   "display_name": "Python 3",
   "language": "python",
   "name": "python3"
  },
  "language_info": {
   "codemirror_mode": {
    "name": "ipython",
    "version": 3
   },
   "file_extension": ".py",
   "mimetype": "text/x-python",
   "name": "python",
   "nbconvert_exporter": "python",
   "pygments_lexer": "ipython3",
   "version": "3.11.0"
  }
 },
 "nbformat": 4,
 "nbformat_minor": 2
}
